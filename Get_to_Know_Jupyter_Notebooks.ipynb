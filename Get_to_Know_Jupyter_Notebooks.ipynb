{
 "cells": [
  {
   "cell_type": "markdown",
   "id": "e5ba41b6",
   "metadata": {},
   "source": [
    "# Hi there,\n",
    "## Welcome to knowing Jupyter Notebooks"
   ]
  },
  {
   "cell_type": "markdown",
   "id": "71260725",
   "metadata": {},
   "source": [
    "## 1. Various fonts:\n",
    "# One '#' types a header 1\n",
    "## Two '#' types header 2\n",
    "### Three '#' types header 3\n",
    "#### Four '#' types header 4\n",
    "##### Five '#' types header 5\n",
    "_1 '*' produces italic font_\n",
    "\n",
    "__2 '*' produces bold font__\n",
    "\n",
    "___3 '*' produces italic bold font___"
   ]
  },
  {
   "cell_type": "code",
   "execution_count": 1,
   "id": "73099556",
   "metadata": {},
   "outputs": [
    {
     "name": "stdout",
     "output_type": "stream",
     "text": [
      "For images you use the following command:\n"
     ]
    }
   ],
   "source": [
    "print(\"For images you use the following command:\")"
   ]
  },
  {
   "cell_type": "markdown",
   "id": "612d515e",
   "metadata": {},
   "source": [
    "___logo: ![Alt Text] (URL)___"
   ]
  },
  {
   "cell_type": "markdown",
   "id": "ec1992ca",
   "metadata": {},
   "source": [
    "logo: ![Image_1](data:image/png;base64,iVBORw0KGgoAAAANSUhEUgAAADAAAAA4CAMAAACMj4vYAAAAk1BMVEX////zdyaenp7yagDzdiN2dnfybQCvr69paWnQ0NCbm5vzchbk5OT5+fn0hET//Pv+9vNYWFg9PT28vLzJycmVlZXu7u7zfDP97+n4tZaIiIgtLS1FRUXc3NykpKT5wKf3qoX72sz3r4385dt+fn70jFQhISH71MRgYWFPUFD2mWr6zbr6yLL1lGH2oXcODg4YGBi1/Il7AAACm0lEQVRIibVW63qiMBAdiECQgCIhKAgiYqVq3b7/0+0EEKOoha+75weXZE7mQnIGgGEQYqBhA2ZQGo6wd6lhGHQ6nMAlwaDuPyMsD5siz1fn7bwdEDWhS0IY6/Jmvb04xHRqmCQqdvWgTSktOwelX/nXhDaa6Uy0DhOHeAc57trpbU2/qqrGxUEzFeuWY3q7h5CnfvUZ4H12JD3zmkKKB4YVS/ul5txsanSv5n7WL82uiWbimCYxI2+/9yIis69HnajHWEr7iUm84rTrJue7cx4RyekxZhiAQ75O88eFcKmNRxzN2d+PfmHVV8u+dRvuheC0OnImJH+Sl+LmSIhS3Rnp1bqHrePdXorjT+Zy1ehwfZznA+wRly7AYfYwe1LD30PdpYPgB08WsQACuVAmgAWQya3IpV1qgeXHFgoMD3W8skDE8hRZFUCFJPeDAfd9K1iEYP/BiTIE6zO2GMRGGixcPNqfYU2gAFQSEgZ2gq7YtwB5Qr5ZExJbS/cZ2B+Nmt0RFnJkzaVb7rc5YFxxTEvgC3hNcL9FGbQE3bARKfD1jSA1hNUhYZACQ4IyS65VClpDlRAkAacL6YGmqR/LEiXyCiVNXfCNFCt0C6mqL6UbCrDXqLtWPYw1Q4iyQnfTqooFpK2UxbHyTRbXJ9148SlF9qFIv500dzdMXjUEFqozrJVAQd81kNHbe/QBGn1EUQSiH0XgYCoiUMvM2/O3/LqTmUbIihFCBjNtpFS2YowNJz/tOhaK8eUqxn23itw7UeR5UeS8k/u7hjLpNZTnub1sWavn9oOboorzi7bbgx3wdntuc63f2B8hpoiQd+kfNquiUH4desimOiJkb2K9AwulvT61hhLS2oGuZ//Nw+gcHqs0BCnnA/8z/wL4eTEg16OCiQAAAABJRU5ErkJggg==)"
   ]
  },
  {
   "cell_type": "code",
   "execution_count": 2,
   "id": "6d2e8fa7",
   "metadata": {},
   "outputs": [
    {
     "name": "stdout",
     "output_type": "stream",
     "text": [
      "For links you use the following command:\n"
     ]
    }
   ],
   "source": [
    "print(\"For links you use the following command:\")"
   ]
  },
  {
   "cell_type": "markdown",
   "id": "aea3dc85",
   "metadata": {},
   "source": [
    "___[alt text] (URL)___"
   ]
  },
  {
   "cell_type": "markdown",
   "id": "892cc447",
   "metadata": {},
   "source": [
    "[Link to Git Repository](https://github.com/ayushfrompune/Repo_Measurable.git)"
   ]
  },
  {
   "cell_type": "markdown",
   "id": "ede928cf",
   "metadata": {},
   "source": [
    "Here is a Table:\n",
    "| Name | Age |\n",
    "|------|-----|\n",
    "|Ayush | 17|\n",
    "|Ditya | 10|\n",
    "|Abhay|42|\n",
    "|Preeti|42|\n",
    "|Manikbai|67|"
   ]
  },
  {
   "cell_type": "markdown",
   "id": "d81f73ab",
   "metadata": {},
   "source": [
    "## Thank you\n",
    "__Ayush Lodha__"
   ]
  },
  {
   "cell_type": "code",
   "execution_count": null,
   "id": "fc39b276",
   "metadata": {},
   "outputs": [],
   "source": []
  }
 ],
 "metadata": {
  "kernelspec": {
   "display_name": "Python 3 (ipykernel)",
   "language": "python",
   "name": "python3"
  },
  "language_info": {
   "codemirror_mode": {
    "name": "ipython",
    "version": 3
   },
   "file_extension": ".py",
   "mimetype": "text/x-python",
   "name": "python",
   "nbconvert_exporter": "python",
   "pygments_lexer": "ipython3",
   "version": "3.11.7"
  }
 },
 "nbformat": 4,
 "nbformat_minor": 5
}
